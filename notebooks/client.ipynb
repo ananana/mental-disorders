{
 "cells": [
  {
   "cell_type": "code",
   "execution_count": null,
   "metadata": {},
   "outputs": [],
   "source": [
    "# importing the requests library\n",
    "import requests\n",
    "import json\n",
    "\n",
    "# api-endpoint\n",
    "# URL_GET = \"https://erisk.irlab.org/challenge-service/getwritings/%s\"\n",
    "URL_GET = \"https://erisk.irlab.org/challenge-t1/getwritings/%s\"\n",
    "# URL_POST = \"https://erisk.irlab.org/challenge-service/submit/%s/%d\"\n",
    "URL_POST = \"https://erisk.irlab.org/challenge-t1/submit/%s/%d\"\n",
    "TOKEN = \"q95QLQYOeqpMuwrRdggKZ1F614619WSGS9TEyQl2bZ4\"\n",
    "\n"
   ]
  },
  {
   "cell_type": "code",
   "execution_count": null,
   "metadata": {},
   "outputs": [],
   "source": [
    "def get_users():\n",
    "\n",
    "    # defining a params dict for the parameters to be sent to the API\n",
    "    PARAMS = {}\n",
    "\n",
    "    # sending get request and saving the response as response object\n",
    "    r = requests.get(url=URL_GET%TOKEN, params=PARAMS)\n",
    "\n",
    "    # extracting data in json format\n",
    "    data = r.json()\n",
    "\n",
    "    return data\n",
    "\n"
   ]
  },
  {
   "cell_type": "code",
   "execution_count": null,
   "metadata": {},
   "outputs": [],
   "source": [
    "def process_data(json_data):\n",
    "    subjects = [d['nick'] for d in json_data]\n",
    "    return subjects\n",
    "\n",
    "def get_subjects(filepath):\n",
    "    subjects = []\n",
    "    with open(filepath) as f:\n",
    "        for line in f:\n",
    "            subjects.append(json.loads(line)['nick'])\n",
    "    return subjects\n",
    "\n"
   ]
  },
  {
   "cell_type": "code",
   "execution_count": null,
   "metadata": {},
   "outputs": [],
   "source": [
    "def serialize_data(data, filepath_data=None, filepath_subjects=None):\n",
    "    rnd = data[0]['number']\n",
    "    if not filepath_data:\n",
    "        filepath_data = 'data_server/data%d.jl'%rnd\n",
    "    if not filepath_subjects:\n",
    "        filepath_subjects = 'data_server/subjects%d.txt'%rnd\n",
    "    with open(filepath_data, 'w+') as f:\n",
    "        for item in data:\n",
    "            f.write(json.dumps(item) + '\\n')\n",
    "    with open(filepath_subjects, 'w+') as f:\n",
    "        for item in process_data(data):\n",
    "            f.write(item + '\\n')\n",
    "\n",
    "def serialize_response(response, rnd, run):\n",
    "    with open('data_server/response_rnd%d_run%d.jl'%(rnd, run), 'w+') as f:\n",
    "        f.write(response)"
   ]
  },
  {
   "cell_type": "code",
   "execution_count": null,
   "metadata": {},
   "outputs": [],
   "source": [
    "def send_prediction(run_nr, rnd, predictions):\n",
    "    data = []\n",
    "    for subject, score, label in predictions:\n",
    "        data.append({\n",
    "            'nick': subject,\n",
    "            'decision': label,\n",
    "            'score': score\n",
    "        })\n",
    "    print('prediction len', len(data))\n",
    "    headers = {'Content-Type': 'application/json', 'Accept': 'application/json'}\n",
    "    response = requests.post(url=URL_POST%(TOKEN,run_nr), data=json.dumps(data), headers=headers)\n",
    "    serialize_response(response, rnd=rnd, run=run_nr)\n",
    "    return response\n",
    "\n",
    "def send_response(response, run_nr, rnd):\n",
    "    headers = {'Content-Type': 'application/json', 'Accept': 'application/json'}\n",
    "    response_server = requests.post(url=URL_POST%(TOKEN,run_nr), data=json.dumps(response), headers=headers)\n",
    "#     serialize_response(response_server, rnd, run_nr)\n",
    "    return response_server"
   ]
  },
  {
   "cell_type": "code",
   "execution_count": null,
   "metadata": {},
   "outputs": [],
   "source": [
    "def get_predictions_dummy(data, predictions, scores):\n",
    "    data = process_data(data)\n",
    "    subjects = get_subjects()\n",
    "    # dummy predictions\n",
    "    predictions = [(s, predictions[s], scores[s]) for s in subjects]\n",
    "    return predictions\n",
    "\n",
    "def get_response_from_file(run, rnd):\n",
    "    predictions_json = read_data('data_server/response_run%d_rnd%d.json' % (run, rnd))\n",
    "    return predictions_json\n",
    "\n",
    "\n",
    "def read_data(filepath):\n",
    "    data = []\n",
    "    with open(filepath) as f:\n",
    "        for line in f:\n",
    "            data.append(json.loads(line))\n",
    "    return data\n",
    "\n"
   ]
  },
  {
   "cell_type": "code",
   "execution_count": null,
   "metadata": {},
   "outputs": [],
   "source": [
    "data = get_users()\n",
    "\n",
    "print('len data', len(data), data)\n",
    "serialize_data(data)\n",
    "\n",
    "\n"
   ]
  },
  {
   "cell_type": "code",
   "execution_count": null,
   "metadata": {},
   "outputs": [],
   "source": [
    "    #for run in range(5):\n",
    "\n",
    "     #   print('run', run)\n",
    "      #  predictions = get_predictions(data)\n",
    "        #print(send_prediction(run, predictions))\n",
    "        # You get new round once you submit your results for run 5.\n",
    "        # What if you submit for run 5 in the beginning tho? Still doesn't give you the new ones right after run 5. It waits to get all of them that's it.\n",
    "        # You should verify when building data for a new round that you are on the right round... that's it.\n",
    "        # But it seems to be working properly.\n",
    "       # print(get_users())"
   ]
  },
  {
   "cell_type": "code",
   "execution_count": null,
   "metadata": {},
   "outputs": [],
   "source": []
  },
  {
   "cell_type": "code",
   "execution_count": null,
   "metadata": {},
   "outputs": [],
   "source": [
    "json.dumps(predictions[0])"
   ]
  },
  {
   "cell_type": "code",
   "execution_count": null,
   "metadata": {},
   "outputs": [],
   "source": [
    "%%time\n",
    "\n",
    "for i in range(101):\n",
    "    rnd = 599\n",
    "    # assert rnd==data[0]['number']\n",
    "    for run_nr in [0,1,2,3,4]:\n",
    "        print(\"run\", run_nr, \"sending round\", rnd)\n",
    "        try:\n",
    "            predictions = get_response_from_file(run=run_nr, rnd=rnd)\n",
    "                \n",
    "        except Exception:\n",
    "            print(\"Round %d not available for run %d\" % (rnd, run_nr))\n",
    "            try:\n",
    "                predictions =  get_response_from_file(run=run_nr, rnd=20)\n",
    "                print(\"run\", run_nr, \"sending round\", 20)\n",
    "            except Exception:\n",
    "                print(\"Round %d not available for run %d\" % (20, run_nr))\n",
    "                predictions =  get_response_from_file(run=run_nr, rnd=1)\n",
    "                print(\"run\", run_nr, \"sending round\", 1)\n",
    "        response_server = send_response(predictions[0], run_nr=run_nr, rnd=rnd)\n",
    "    data = get_users()\n",
    "\n",
    "    print('len data', len(data), \"getting rnd\", data[0]['number'])\n",
    "    serialize_data(data)"
   ]
  },
  {
   "cell_type": "code",
   "execution_count": null,
   "metadata": {},
   "outputs": [],
   "source": [
    "%%time\n",
    "data = get_users()\n",
    "\n",
    "print('len data', len(data), \"getting rnd\", data[0]['number'])\n",
    "serialize_data(data)"
   ]
  },
  {
   "cell_type": "code",
   "execution_count": null,
   "metadata": {},
   "outputs": [],
   "source": [
    "response_server"
   ]
  },
  {
   "cell_type": "code",
   "execution_count": null,
   "metadata": {},
   "outputs": [],
   "source": [
    "# Start round\n",
    "rnd = -1\n",
    "# Stop round\n",
    "rnd_thresh = 50\n",
    "# Submit frequency\n",
    "rnd_batch_size = 10\n",
    "\n",
    "while True:\n",
    "    # Get data\n",
    "    data = get_users()\n",
    "    serialize_data(data)\n",
    "    cur_round = data['number']\n",
    "    print('len data', len(data), cur_round)\n",
    "    if cur_round == rnd:\n",
    "        break\n",
    "    rnd = cur_round\n",
    "    # TO remove\n",
    "    if rnd >= rnd_thresh:\n",
    "        break\n",
    "    \n",
    "    if rnd % rnd_batch_size == 0:\n",
    "        print(\"Seding results (round %d...)\" % rnd)\n",
    "        for run in range(5):\n",
    "            predictions = get_response_from_file(model=models[run], run=run, rnd=rnd)\n",
    "            response_server = send_response(predictions, run_nr=run, rnd=run)\n",
    "            print(response_server)\n",
    "        \n",
    "    \n",
    "    "
   ]
  }
 ],
 "metadata": {
  "kernelspec": {
   "display_name": "tfenv",
   "language": "python",
   "name": "tfenv"
  },
  "language_info": {
   "codemirror_mode": {
    "name": "ipython",
    "version": 3
   },
   "file_extension": ".py",
   "mimetype": "text/x-python",
   "name": "python",
   "nbconvert_exporter": "python",
   "pygments_lexer": "ipython3",
   "version": "3.5.2"
  }
 },
 "nbformat": 4,
 "nbformat_minor": 4
}
